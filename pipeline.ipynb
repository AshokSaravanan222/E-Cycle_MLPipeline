{
  "cells": [
    {
      "cell_type": "code",
      "execution_count": null,
      "metadata": {
        "collapsed": true,
        "ExecuteTime": {
          "end_time": "2024-02-28T02:04:16.799688Z",
          "start_time": "2024-02-28T02:03:18.839727Z"
        },
        "id": "LveTt4jd1Drt"
      },
      "outputs": [],
      "source": [
        "from ultralytics.utils import LOGGER, SETTINGS, Path, is_ubuntu, get_ubuntu_version\n",
        "from ultralytics.utils.checks import check_requirements, check_version"
      ]
    },
    {
      "cell_type": "code",
      "execution_count": null,
      "outputs": [],
      "source": [
        "check_requirements('fiftyone')\n",
        "if is_ubuntu() and check_version(get_ubuntu_version(), '>=22.04'):\n",
        "  # Ubuntu>=22.04 patch https://github.com/voxel51/fiftyone/issues/2961#issuecomment-1666519347\n",
        "  check_requirements('fiftyone-db-ubuntu2204')\n",
        "\n",
        "import fiftyone as fo\n",
        "import fiftyone.zoo as foz\n",
        "import warnings"
      ],
      "metadata": {
        "ExecuteTime": {
          "end_time": "2024-02-28T02:05:24.905255Z",
          "start_time": "2024-02-28T02:05:02.493193Z"
        },
        "id": "Ov5HfPEq1Drt"
      }
    },
    {
      "cell_type": "code",
      "execution_count": null,
      "outputs": [
        {
          "name": "stdout",
          "output_type": "stream",
          "text": [
            "WARNING ⚠️ Open Images V7 dataset requires at least **561 GB of free space. Starting download...\n",
            "Downloading split 'train' to '/Users/ashoksaravanan/Coding/E-Cycle_ML_YOLO/datasets/fiftyone/open-images-v7/train' if necessary\n",
            "Only found 17 (<1743) samples matching your requirements\n",
            "Downloading 17 images\n",
            " 100% |█████████████████████| 17/17 [1.8s elapsed, 0s remaining, 9.3 files/s]      \n",
            "Dataset info written to '/Users/ashoksaravanan/Coding/E-Cycle_ML_YOLO/datasets/fiftyone/open-images-v7/info.json'\n",
            "Loading 'open-images-v7' split 'train'\n",
            " 100% |███████████████████| 17/17 [65.2ms elapsed, 0s remaining, 260.7 samples/s]     \n",
            "Dataset 'open-images-v7-train-1743' created\n",
            " 100% |███████████████████| 17/17 [28.6ms elapsed, 0s remaining, 594.3 samples/s] \n",
            "Downloading split 'validation' to '/Users/ashoksaravanan/Coding/E-Cycle_ML_YOLO/datasets/fiftyone/open-images-v7/validation' if necessary\n",
            "Downloading 'https://storage.googleapis.com/openimages/2018_04/validation/validation-images-with-rotation.csv' to '/Users/ashoksaravanan/Coding/E-Cycle_ML_YOLO/datasets/fiftyone/open-images-v7/validation/metadata/image_ids.csv'\n",
            "Downloading 'https://storage.googleapis.com/openimages/v5/class-descriptions-boxable.csv' to '/Users/ashoksaravanan/Coding/E-Cycle_ML_YOLO/datasets/fiftyone/open-images-v7/validation/metadata/classes.csv'\n",
            "Downloading 'https://storage.googleapis.com/openimages/2018_04/bbox_labels_600_hierarchy.json' to '/var/folders/fp/lxwzhd7s73z17lg4p9w_6kfc0000gp/T/tmpwmzbbq_a/metadata/hierarchy.json'\n",
            "Downloading 'https://storage.googleapis.com/openimages/v5/validation-annotations-bbox.csv' to '/Users/ashoksaravanan/Coding/E-Cycle_ML_YOLO/datasets/fiftyone/open-images-v7/validation/labels/detections.csv'\n",
            "Downloading 42 images\n",
            " 100% |█████████████████████| 42/42 [6.9s elapsed, 0s remaining, 3.1 files/s]       \n",
            "Dataset info written to '/Users/ashoksaravanan/Coding/E-Cycle_ML_YOLO/datasets/fiftyone/open-images-v7/info.json'\n",
            "Loading 'open-images-v7' split 'validation'\n",
            " 100% |███████████████████| 42/42 [185.7ms elapsed, 0s remaining, 226.1 samples/s]     \n",
            "Dataset 'open-images-v7-validation-42' created\n",
            "Directory '/Users/ashoksaravanan/Coding/E-Cycle_ML_YOLO/datasets/open-images-v7' already exists; export will be merged with existing files\n",
            " 100% |███████████████████| 42/42 [102.0ms elapsed, 0s remaining, 411.8 samples/s] \n"
          ]
        }
      ],
      "source": [
        "name = 'open-images-v7'\n",
        "classes = ['Tin can']\n",
        "fraction = 0.001  # fraction of full dataset to use\n",
        "LOGGER.warning('WARNING ⚠️ Open Images V7 dataset requires at least **561 GB of free space. Starting download...')\n",
        "for split in 'train', 'validation':  # 1743042 train, 41620 val images\n",
        "  train = split == 'train'\n",
        "\n",
        "  # Load Open Images dataset\n",
        "  dataset = foz.load_zoo_dataset(name,\n",
        "                                 split=split,\n",
        "                                 label_types=['detections'],\n",
        "                                 classes=classes,\n",
        "                                 dataset_dir=Path(SETTINGS['datasets_dir']) / 'fiftyone' / name,\n",
        "                                 max_samples=round((1743042 if train else 41620) * fraction))\n",
        "\n",
        "  # Define classes\n",
        "  if train:\n",
        "      classes = dataset.default_classes  # all classes\n",
        "      # classes = dataset.distinct('ground_truth.detections.label')  # only observed classes\n",
        "\n",
        "  # Export to YOLO format\n",
        "  with warnings.catch_warnings():\n",
        "      warnings.filterwarnings(\"ignore\", category=UserWarning, module=\"fiftyone.utils.yolo\")\n",
        "      dataset.export(export_dir=str(Path(SETTINGS['datasets_dir']) / name),\n",
        "                     dataset_type=fo.types.YOLOv5Dataset,\n",
        "                     label_field='ground_truth',\n",
        "                     split='val' if split == 'validation' else split,\n",
        "                     classes=classes,\n",
        "                     overwrite=train)"
      ],
      "metadata": {
        "ExecuteTime": {
          "end_time": "2024-02-28T02:07:07.311389Z",
          "start_time": "2024-02-28T02:06:44.680658Z"
        },
        "id": "_mE6S_Sy1Drt",
        "outputId": "426435a5-8bfb-40f9-a3ee-82758bdfb692"
      }
    },
    {
      "cell_type": "code",
      "execution_count": null,
      "outputs": [],
      "source": [],
      "metadata": {
        "id": "RIqZCVij1Dru"
      }
    }
  ],
  "metadata": {
    "kernelspec": {
      "display_name": "Python 3",
      "language": "python",
      "name": "python3"
    },
    "language_info": {
      "codemirror_mode": {
        "name": "ipython",
        "version": 2
      },
      "file_extension": ".py",
      "mimetype": "text/x-python",
      "name": "python",
      "nbconvert_exporter": "python",
      "pygments_lexer": "ipython2",
      "version": "2.7.6"
    },
    "colab": {
      "provenance": []
    }
  },
  "nbformat": 4,
  "nbformat_minor": 0
}