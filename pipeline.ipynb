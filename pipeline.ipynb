{
  "cells": [
    {
      "cell_type": "code",
      "source": [
        "!pip install ultralytics"
      ],
      "metadata": {
        "id": "GH2V6SRd1VGT"
      },
      "execution_count": null,
      "outputs": []
    },
    {
      "cell_type": "code",
      "source": [
        "!pip install fiftyone"
      ],
      "metadata": {
        "id": "nNI0kGWd1aEU"
      },
      "execution_count": null,
      "outputs": []
    },
    {
      "cell_type": "code",
      "execution_count": 4,
      "metadata": {
        "collapsed": true,
        "ExecuteTime": {
          "end_time": "2024-02-28T02:04:16.799688Z",
          "start_time": "2024-02-28T02:03:18.839727Z"
        },
        "id": "EYQO4Ogc1S7d"
      },
      "outputs": [],
      "source": [
        "from ultralytics.utils import LOGGER, SETTINGS, Path, is_ubuntu, get_ubuntu_version\n",
        "from ultralytics.utils.checks import check_requirements, check_version"
      ]
    },
    {
      "cell_type": "code",
      "execution_count": null,
      "outputs": [],
      "source": [
        "check_requirements('fiftyone')\n",
        "if is_ubuntu() and check_version(get_ubuntu_version(), '>=22.04'):\n",
        "  # Ubuntu>=22.04 patch https://github.com/voxel51/fiftyone/issues/2961#issuecomment-1666519347\n",
        "  check_requirements('fiftyone-db-ubuntu2204')\n",
        "\n",
        "import fiftyone as fo\n",
        "import fiftyone.zoo as foz\n",
        "import warnings"
      ],
      "metadata": {
        "ExecuteTime": {
          "end_time": "2024-02-28T02:05:24.905255Z",
          "start_time": "2024-02-28T02:05:02.493193Z"
        },
        "id": "s-HqdM-81S7d"
      }
    },
    {
      "cell_type": "code",
      "source": [
        "from google.colab import drive\n",
        "drive.mount(\"/content/gdrive\")\n",
        "ROOT_DIR = 'gdrive/MyDrive/E-Cycle'"
      ],
      "metadata": {
        "id": "Dyc0XRhT2g_k"
      },
      "execution_count": null,
      "outputs": []
    },
    {
      "cell_type": "code",
      "source": [
        "name = 'open-images-v7'\n",
        "classes = ['Adhesive tape', 'Alarm clock', 'Book', 'Bottle', 'Box', 'Can opener', 'Candle', 'Coffee cup', 'Container', 'Cutting board', 'Envelope', 'Glass', 'Juice', 'Kettle', 'Kitchen appliance', 'Lamp', 'Light bulb', 'Magazine', 'Microwave oven', 'Mobile phone', 'Mug', 'Newspaper', 'Oven', 'Paper towel', 'Pen', 'Pencil', 'Plastic bag', 'Plate', 'Printer', 'Refrigerator', 'Remote control', 'Scissors', 'Shampoo', 'Soap dispenser', 'Spoon', 'Television', 'Toaster', 'Toilet paper', 'Toothbrush', 'Towel', 'Vacuum cleaner', 'Washing machine', 'Water bottle', 'Wine glass']\n",
        "SETTINGS['datasets_dir'] = ROOT_DIR\n",
        "fraction = 0.001  # fraction of full dataset to use"
      ],
      "metadata": {
        "id": "Okh9OVag2aA-"
      },
      "execution_count": 7,
      "outputs": []
    },
    {
      "cell_type": "code",
      "execution_count": 8,
      "outputs": [
        {
          "output_type": "stream",
          "name": "stdout",
          "text": [
            "WARNING ⚠️ Open Images V7 dataset requires at least **561 GB of free space. Starting download...\n",
            "Downloading split 'train' to 'gdrive/MyDrive/E-Cycle/fiftyone/open-images-v7/train' if necessary\n"
          ]
        },
        {
          "output_type": "stream",
          "name": "stderr",
          "text": [
            "INFO:fiftyone.zoo.datasets:Downloading split 'train' to 'gdrive/MyDrive/E-Cycle/fiftyone/open-images-v7/train' if necessary\n"
          ]
        },
        {
          "output_type": "stream",
          "name": "stdout",
          "text": [
            "Downloading 'https://storage.googleapis.com/openimages/2018_04/train/train-images-boxable-with-rotation.csv' to 'gdrive/MyDrive/E-Cycle/fiftyone/open-images-v7/train/metadata/image_ids.csv'\n"
          ]
        },
        {
          "output_type": "stream",
          "name": "stderr",
          "text": [
            "INFO:fiftyone.utils.openimages:Downloading 'https://storage.googleapis.com/openimages/2018_04/train/train-images-boxable-with-rotation.csv' to 'gdrive/MyDrive/E-Cycle/fiftyone/open-images-v7/train/metadata/image_ids.csv'\n"
          ]
        },
        {
          "output_type": "stream",
          "name": "stdout",
          "text": [
            " 100% |██████|    4.8Gb/4.8Gb [23.1s elapsed, 0s remaining, 223.6Mb/s]      \n"
          ]
        },
        {
          "output_type": "stream",
          "name": "stderr",
          "text": [
            "INFO:eta.core.utils: 100% |██████|    4.8Gb/4.8Gb [23.1s elapsed, 0s remaining, 223.6Mb/s]      \n"
          ]
        },
        {
          "output_type": "stream",
          "name": "stdout",
          "text": [
            "Downloading 'https://storage.googleapis.com/openimages/v5/class-descriptions-boxable.csv' to 'gdrive/MyDrive/E-Cycle/fiftyone/open-images-v7/train/metadata/classes.csv'\n"
          ]
        },
        {
          "output_type": "stream",
          "name": "stderr",
          "text": [
            "INFO:fiftyone.utils.openimages:Downloading 'https://storage.googleapis.com/openimages/v5/class-descriptions-boxable.csv' to 'gdrive/MyDrive/E-Cycle/fiftyone/open-images-v7/train/metadata/classes.csv'\n"
          ]
        },
        {
          "output_type": "stream",
          "name": "stdout",
          "text": [
            "Ignoring invalid classes ['Glass', 'Magazine', 'Newspaper', 'Pencil', 'Shampoo', 'Vacuum cleaner', 'Water bottle']\n",
            "You can view the available classes via `fiftyone.utils.openimages.get_classes()`\n"
          ]
        },
        {
          "output_type": "stream",
          "name": "stderr",
          "text": [
            "WARNING:fiftyone.utils.openimages:Ignoring invalid classes ['Glass', 'Magazine', 'Newspaper', 'Pencil', 'Shampoo', 'Vacuum cleaner', 'Water bottle']\n",
            "You can view the available classes via `fiftyone.utils.openimages.get_classes()`\n"
          ]
        },
        {
          "output_type": "stream",
          "name": "stdout",
          "text": [
            "Downloading 'https://storage.googleapis.com/openimages/2018_04/bbox_labels_600_hierarchy.json' to '/tmp/tmpmfdnnlrh/metadata/hierarchy.json'\n"
          ]
        },
        {
          "output_type": "stream",
          "name": "stderr",
          "text": [
            "INFO:fiftyone.utils.openimages:Downloading 'https://storage.googleapis.com/openimages/2018_04/bbox_labels_600_hierarchy.json' to '/tmp/tmpmfdnnlrh/metadata/hierarchy.json'\n"
          ]
        },
        {
          "output_type": "stream",
          "name": "stdout",
          "text": [
            "Downloading 'https://storage.googleapis.com/openimages/v6/oidv6-train-annotations-bbox.csv' to 'gdrive/MyDrive/E-Cycle/fiftyone/open-images-v7/train/labels/detections.csv'\n"
          ]
        },
        {
          "output_type": "stream",
          "name": "stderr",
          "text": [
            "INFO:fiftyone.utils.openimages:Downloading 'https://storage.googleapis.com/openimages/v6/oidv6-train-annotations-bbox.csv' to 'gdrive/MyDrive/E-Cycle/fiftyone/open-images-v7/train/labels/detections.csv'\n"
          ]
        },
        {
          "output_type": "stream",
          "name": "stdout",
          "text": [
            "Downloading 1743 images\n"
          ]
        },
        {
          "output_type": "stream",
          "name": "stderr",
          "text": [
            "INFO:fiftyone.utils.openimages:Downloading 1743 images\n"
          ]
        },
        {
          "output_type": "stream",
          "name": "stdout",
          "text": [
            " 100% |█████████████████| 1743/1743 [7.9m elapsed, 0s remaining, 3.8 files/s]      \n"
          ]
        },
        {
          "output_type": "stream",
          "name": "stderr",
          "text": [
            "INFO:eta.core.utils: 100% |█████████████████| 1743/1743 [7.9m elapsed, 0s remaining, 3.8 files/s]      \n"
          ]
        },
        {
          "output_type": "stream",
          "name": "stdout",
          "text": [
            "Dataset info written to 'gdrive/MyDrive/E-Cycle/fiftyone/open-images-v7/info.json'\n"
          ]
        },
        {
          "output_type": "stream",
          "name": "stderr",
          "text": [
            "INFO:fiftyone.zoo.datasets:Dataset info written to 'gdrive/MyDrive/E-Cycle/fiftyone/open-images-v7/info.json'\n"
          ]
        },
        {
          "output_type": "stream",
          "name": "stdout",
          "text": [
            "Loading 'open-images-v7' split 'train'\n"
          ]
        },
        {
          "output_type": "stream",
          "name": "stderr",
          "text": [
            "INFO:fiftyone.zoo.datasets:Loading 'open-images-v7' split 'train'\n"
          ]
        },
        {
          "output_type": "stream",
          "name": "stdout",
          "text": [
            "Ignoring invalid classes ['Glass', 'Magazine', 'Newspaper', 'Pencil', 'Shampoo', 'Vacuum cleaner', 'Water bottle']\n",
            "You can view the available classes via `fiftyone.utils.openimages.get_classes()`\n"
          ]
        },
        {
          "output_type": "stream",
          "name": "stderr",
          "text": [
            "WARNING:fiftyone.utils.openimages:Ignoring invalid classes ['Glass', 'Magazine', 'Newspaper', 'Pencil', 'Shampoo', 'Vacuum cleaner', 'Water bottle']\n",
            "You can view the available classes via `fiftyone.utils.openimages.get_classes()`\n"
          ]
        },
        {
          "output_type": "stream",
          "name": "stdout",
          "text": [
            " 100% |███████████████| 1743/1743 [17.4s elapsed, 0s remaining, 143.5 samples/s]      \n"
          ]
        },
        {
          "output_type": "stream",
          "name": "stderr",
          "text": [
            "INFO:eta.core.utils: 100% |███████████████| 1743/1743 [17.4s elapsed, 0s remaining, 143.5 samples/s]      \n"
          ]
        },
        {
          "output_type": "stream",
          "name": "stdout",
          "text": [
            "Dataset 'open-images-v7-train-1743' created\n"
          ]
        },
        {
          "output_type": "stream",
          "name": "stderr",
          "text": [
            "INFO:fiftyone.zoo.datasets:Dataset 'open-images-v7-train-1743' created\n"
          ]
        },
        {
          "output_type": "stream",
          "name": "stdout",
          "text": [
            " 100% |███████████████| 1743/1743 [1.4m elapsed, 0s remaining, 27.2 samples/s]      \n"
          ]
        },
        {
          "output_type": "stream",
          "name": "stderr",
          "text": [
            "INFO:eta.core.utils: 100% |███████████████| 1743/1743 [1.4m elapsed, 0s remaining, 27.2 samples/s]      \n"
          ]
        },
        {
          "output_type": "stream",
          "name": "stdout",
          "text": [
            "Downloading split 'validation' to 'gdrive/MyDrive/E-Cycle/fiftyone/open-images-v7/validation' if necessary\n"
          ]
        },
        {
          "output_type": "stream",
          "name": "stderr",
          "text": [
            "INFO:fiftyone.zoo.datasets:Downloading split 'validation' to 'gdrive/MyDrive/E-Cycle/fiftyone/open-images-v7/validation' if necessary\n"
          ]
        },
        {
          "output_type": "stream",
          "name": "stdout",
          "text": [
            "Downloading 'https://storage.googleapis.com/openimages/2018_04/validation/validation-images-with-rotation.csv' to 'gdrive/MyDrive/E-Cycle/fiftyone/open-images-v7/validation/metadata/image_ids.csv'\n"
          ]
        },
        {
          "output_type": "stream",
          "name": "stderr",
          "text": [
            "INFO:fiftyone.utils.openimages:Downloading 'https://storage.googleapis.com/openimages/2018_04/validation/validation-images-with-rotation.csv' to 'gdrive/MyDrive/E-Cycle/fiftyone/open-images-v7/validation/metadata/image_ids.csv'\n"
          ]
        },
        {
          "output_type": "stream",
          "name": "stdout",
          "text": [
            "Downloading 'https://storage.googleapis.com/openimages/v5/class-descriptions-boxable.csv' to 'gdrive/MyDrive/E-Cycle/fiftyone/open-images-v7/validation/metadata/classes.csv'\n"
          ]
        },
        {
          "output_type": "stream",
          "name": "stderr",
          "text": [
            "INFO:fiftyone.utils.openimages:Downloading 'https://storage.googleapis.com/openimages/v5/class-descriptions-boxable.csv' to 'gdrive/MyDrive/E-Cycle/fiftyone/open-images-v7/validation/metadata/classes.csv'\n"
          ]
        },
        {
          "output_type": "stream",
          "name": "stdout",
          "text": [
            "Downloading 'https://storage.googleapis.com/openimages/2018_04/bbox_labels_600_hierarchy.json' to '/tmp/tmpkf643_70/metadata/hierarchy.json'\n"
          ]
        },
        {
          "output_type": "stream",
          "name": "stderr",
          "text": [
            "INFO:fiftyone.utils.openimages:Downloading 'https://storage.googleapis.com/openimages/2018_04/bbox_labels_600_hierarchy.json' to '/tmp/tmpkf643_70/metadata/hierarchy.json'\n"
          ]
        },
        {
          "output_type": "stream",
          "name": "stdout",
          "text": [
            "Downloading 'https://storage.googleapis.com/openimages/v5/validation-annotations-bbox.csv' to 'gdrive/MyDrive/E-Cycle/fiftyone/open-images-v7/validation/labels/detections.csv'\n"
          ]
        },
        {
          "output_type": "stream",
          "name": "stderr",
          "text": [
            "INFO:fiftyone.utils.openimages:Downloading 'https://storage.googleapis.com/openimages/v5/validation-annotations-bbox.csv' to 'gdrive/MyDrive/E-Cycle/fiftyone/open-images-v7/validation/labels/detections.csv'\n"
          ]
        },
        {
          "output_type": "stream",
          "name": "stdout",
          "text": [
            "Downloading 42 images\n"
          ]
        },
        {
          "output_type": "stream",
          "name": "stderr",
          "text": [
            "INFO:fiftyone.utils.openimages:Downloading 42 images\n"
          ]
        },
        {
          "output_type": "stream",
          "name": "stdout",
          "text": [
            " 100% |█████████████████████| 42/42 [12.5s elapsed, 0s remaining, 3.8 files/s]      \n"
          ]
        },
        {
          "output_type": "stream",
          "name": "stderr",
          "text": [
            "INFO:eta.core.utils: 100% |█████████████████████| 42/42 [12.5s elapsed, 0s remaining, 3.8 files/s]      \n"
          ]
        },
        {
          "output_type": "stream",
          "name": "stdout",
          "text": [
            "Dataset info written to 'gdrive/MyDrive/E-Cycle/fiftyone/open-images-v7/info.json'\n"
          ]
        },
        {
          "output_type": "stream",
          "name": "stderr",
          "text": [
            "INFO:fiftyone.zoo.datasets:Dataset info written to 'gdrive/MyDrive/E-Cycle/fiftyone/open-images-v7/info.json'\n"
          ]
        },
        {
          "output_type": "stream",
          "name": "stdout",
          "text": [
            "Loading 'open-images-v7' split 'validation'\n"
          ]
        },
        {
          "output_type": "stream",
          "name": "stderr",
          "text": [
            "INFO:fiftyone.zoo.datasets:Loading 'open-images-v7' split 'validation'\n"
          ]
        },
        {
          "output_type": "stream",
          "name": "stdout",
          "text": [
            " 100% |███████████████████| 42/42 [651.0ms elapsed, 0s remaining, 65.2 samples/s]      \n"
          ]
        },
        {
          "output_type": "stream",
          "name": "stderr",
          "text": [
            "INFO:eta.core.utils: 100% |███████████████████| 42/42 [651.0ms elapsed, 0s remaining, 65.2 samples/s]      \n"
          ]
        },
        {
          "output_type": "stream",
          "name": "stdout",
          "text": [
            "Dataset 'open-images-v7-validation-42' created\n"
          ]
        },
        {
          "output_type": "stream",
          "name": "stderr",
          "text": [
            "INFO:fiftyone.zoo.datasets:Dataset 'open-images-v7-validation-42' created\n"
          ]
        },
        {
          "output_type": "stream",
          "name": "stdout",
          "text": [
            "Directory 'gdrive/MyDrive/E-Cycle/open-images-v7' already exists; export will be merged with existing files\n"
          ]
        },
        {
          "output_type": "stream",
          "name": "stderr",
          "text": [
            "WARNING:fiftyone.core.collections:Directory 'gdrive/MyDrive/E-Cycle/open-images-v7' already exists; export will be merged with existing files\n"
          ]
        },
        {
          "output_type": "stream",
          "name": "stdout",
          "text": [
            " 100% |███████████████████| 42/42 [1.5s elapsed, 0s remaining, 27.7 samples/s]         \n"
          ]
        },
        {
          "output_type": "stream",
          "name": "stderr",
          "text": [
            "INFO:eta.core.utils: 100% |███████████████████| 42/42 [1.5s elapsed, 0s remaining, 27.7 samples/s]         \n"
          ]
        }
      ],
      "source": [
        "LOGGER.warning('WARNING ⚠️ Open Images V7 dataset requires at least **561 GB of free space. Starting download...')\n",
        "for split in 'train', 'validation':  # 1743042 train, 41620 val images\n",
        "  train = split == 'train'\n",
        "\n",
        "  # Load Open Images dataset\n",
        "  dataset = foz.load_zoo_dataset(name,\n",
        "                                 split=split,\n",
        "                                 label_types=['detections'],\n",
        "                                 classes=classes,\n",
        "                                 dataset_dir=Path(SETTINGS['datasets_dir']) / 'fiftyone' / name,\n",
        "                                 max_samples=round((1743042 if train else 41620) * fraction))\n",
        "\n",
        "  # Define classes\n",
        "  if train:\n",
        "      classes = dataset.default_classes  # all classes\n",
        "      # classes = dataset.distinct('ground_truth.detections.label')  # only observed classes\n",
        "\n",
        "  # Export to YOLO format\n",
        "  with warnings.catch_warnings():\n",
        "      warnings.filterwarnings(\"ignore\", category=UserWarning, module=\"fiftyone.utils.yolo\")\n",
        "      dataset.export(export_dir=str(Path(SETTINGS['datasets_dir']) / name),\n",
        "                     dataset_type=fo.types.YOLOv5Dataset,\n",
        "                     label_field='ground_truth',\n",
        "                     split='val' if split == 'validation' else split,\n",
        "                     classes=classes,\n",
        "                     overwrite=train)"
      ],
      "metadata": {
        "ExecuteTime": {
          "end_time": "2024-02-28T02:07:07.311389Z",
          "start_time": "2024-02-28T02:06:44.680658Z"
        },
        "id": "_KhL32C-1S7d",
        "outputId": "081ed7bb-7028-40b0-f7b6-a8c2b375170b",
        "colab": {
          "base_uri": "https://localhost:8080/"
        }
      }
    },
    {
      "cell_type": "code",
      "execution_count": null,
      "outputs": [],
      "source": [],
      "metadata": {
        "id": "P5lD3JF21S7e"
      }
    }
  ],
  "metadata": {
    "kernelspec": {
      "display_name": "Python 3",
      "language": "python",
      "name": "python3"
    },
    "language_info": {
      "codemirror_mode": {
        "name": "ipython",
        "version": 2
      },
      "file_extension": ".py",
      "mimetype": "text/x-python",
      "name": "python",
      "nbconvert_exporter": "python",
      "pygments_lexer": "ipython2",
      "version": "2.7.6"
    },
    "colab": {
      "provenance": []
    }
  },
  "nbformat": 4,
  "nbformat_minor": 0
}