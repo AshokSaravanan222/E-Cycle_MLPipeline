{
 "cells": [
  {
   "cell_type": "code",
   "execution_count": 1,
   "metadata": {
    "collapsed": true,
    "ExecuteTime": {
     "end_time": "2024-02-27T01:14:36.342873Z",
     "start_time": "2024-02-27T01:14:30.736704Z"
    }
   },
   "outputs": [],
   "source": [
    "import fiftyone as fo\n",
    "import fiftyone.zoo as foz"
   ]
  },
  {
   "cell_type": "code",
   "execution_count": 5,
   "outputs": [
    {
     "name": "stdout",
     "output_type": "stream",
     "text": [
      "Downloading split 'validation' to '/Users/ashoksaravanan/Coding/E-Cycle_ML_YOLO/dataset/validation' if necessary\n",
      "Downloading 'https://storage.googleapis.com/openimages/2018_04/validation/validation-images-with-rotation.csv' to '/Users/ashoksaravanan/Coding/E-Cycle_ML_YOLO/dataset/validation/metadata/image_ids.csv'\n",
      "Downloading 'https://storage.googleapis.com/openimages/v5/class-descriptions-boxable.csv' to '/Users/ashoksaravanan/Coding/E-Cycle_ML_YOLO/dataset/validation/metadata/classes.csv'\n",
      "Ignoring invalid classes ['Laundry basket', 'Cardboard']\n",
      "You can view the available classes via `fiftyone.utils.openimages.get_classes()`\n",
      "Downloading 'https://storage.googleapis.com/openimages/2018_04/bbox_labels_600_hierarchy.json' to '/var/folders/fp/lxwzhd7s73z17lg4p9w_6kfc0000gp/T/tmpqazdo04w/metadata/hierarchy.json'\n",
      "Downloading 'https://storage.googleapis.com/openimages/v5/validation-annotations-bbox.csv' to '/Users/ashoksaravanan/Coding/E-Cycle_ML_YOLO/dataset/validation/labels/detections.csv'\n",
      "Only found 36 (<100) samples matching your requirements\n",
      "Downloading 36 images\n",
      " 100% |█████████████████████| 36/36 [3.6s elapsed, 0s remaining, 10.4 files/s]      \n",
      "Dataset info written to '/Users/ashoksaravanan/Coding/E-Cycle_ML_YOLO/dataset/info.json'\n",
      "Loading 'open-images-v7' split 'validation'\n",
      "Ignoring invalid classes ['Laundry basket', 'Cardboard']\n",
      "You can view the available classes via `fiftyone.utils.openimages.get_classes()`\n",
      " 100% |███████████████████| 36/36 [113.3ms elapsed, 0s remaining, 317.7 samples/s]    \n",
      "Dataset 'open-images-v7-validation-100' created\n"
     ]
    }
   ],
   "source": [
    "dataset = foz.load_zoo_dataset(\"open-images-v7\",\n",
    "                               split=\"validation\",\n",
    "                               label_types=[\"detections\"],\n",
    "                               classes=[\"Tin can\", \"Laundry basket\", \"Cardboard\"],\n",
    "                               max_samples=100,\n",
    "                               dataset_dir=\"/Users/ashoksaravanan/Coding/E-Cycle_ML_YOLO/dataset\",\n",
    "                               progress=True)"
   ],
   "metadata": {
    "collapsed": false,
    "ExecuteTime": {
     "end_time": "2024-02-27T01:24:17.195545Z",
     "start_time": "2024-02-27T01:24:03.849733Z"
    }
   }
  },
  {
   "cell_type": "code",
   "execution_count": null,
   "outputs": [],
   "source": [],
   "metadata": {
    "collapsed": false
   }
  }
 ],
 "metadata": {
  "kernelspec": {
   "display_name": "Python 3",
   "language": "python",
   "name": "python3"
  },
  "language_info": {
   "codemirror_mode": {
    "name": "ipython",
    "version": 2
   },
   "file_extension": ".py",
   "mimetype": "text/x-python",
   "name": "python",
   "nbconvert_exporter": "python",
   "pygments_lexer": "ipython2",
   "version": "2.7.6"
  }
 },
 "nbformat": 4,
 "nbformat_minor": 0
}
